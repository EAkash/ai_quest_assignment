{
 "cells": [
  {
   "cell_type": "code",
   "execution_count": 1,
   "id": "af35d0ab",
   "metadata": {},
   "outputs": [
    {
     "name": "stdout",
     "output_type": "stream",
     "text": [
      "Please Enter your Length = 12\n",
      "Please Enter your Breadth = 12\n",
      "It is a Square\n"
     ]
    }
   ],
   "source": [
    "# Take values of the length & breadth of a rectangle from user input and check if it is square or not.\n",
    "length = input(\"Please Enter your Length = \");\n",
    "breadth = input (\"Please Enter your Breadth = \");\n",
    "if (length == breadth):\n",
    "    print(\"It is a Square\")\n",
    "else:\n",
    "    print(\"It is a rectangle \")\n"
   ]
  },
  {
   "cell_type": "code",
   "execution_count": 3,
   "id": "53feb735",
   "metadata": {},
   "outputs": [
    {
     "name": "stdout",
     "output_type": "stream",
     "text": [
      "Please Enter your First number  = 23\n",
      "Please Enter your Second Number = 43\n",
      "Please Enter Your Third number = 24\n",
      "The greatest Number is 43\n"
     ]
    }
   ],
   "source": [
    "# Take three integer values from the user and print the greatest among them.\n",
    "firstNo = input(\"Please Enter your First number  = \");\n",
    "secondNo = input (\"Please Enter your Second Number = \");\n",
    "thirdNo = input(\"Please Enter Your Third number = \");\n",
    "if firstNo>secondNo and firstNo > thirdNo :\n",
    "    print(\" The greatest Number is \" +firstno)\n",
    "elif secondNo> firstNo  and secondNo>thirdNo:\n",
    "    print(\"The greatest Number is \" + secondNo)\n",
    "else:\n",
    "    print(\"The greatest Number is \" + thirdNo)"
   ]
  },
  {
   "cell_type": "code",
   "execution_count": 4,
   "id": "29a9a290",
   "metadata": {},
   "outputs": [
    {
     "name": "stdout",
     "output_type": "stream",
     "text": [
      "Enter total classes held  = 25\n",
      "Enter classes attended by student =  14\n",
      "The class attendance percentage of the student is  56 %\n",
      "This student is not allowed to sit in exam because his/her percentage is below 75\n"
     ]
    }
   ],
   "source": [
    "# A student will not be allowed to sit in an exam if his/her attendance is less than 75%\n",
    "totalClass = int(input(\"Enter total classes held  = \"));\n",
    "classesAttended = int(input(\"Enter classes attended by student =  \"));\n",
    "percentage = int((classesAttended/totalClass)*100);\n",
    "if (classesAttended<=totalClass):\n",
    "    print(\"The class attendance percentage of the student is \",percentage,\"%\")\n",
    "    \n",
    "    if percentage > 75 :\n",
    "        print(\"This student is allowed to sit in exam because his/her percentage is above 75\")\n",
    "    else:\n",
    "         print(\"This student is not allowed to sit in exam because his/her percentage is below 75\")"
   ]
  },
  {
   "cell_type": "code",
   "execution_count": 6,
   "id": "67b3013f",
   "metadata": {},
   "outputs": [
    {
     "name": "stdout",
     "output_type": "stream",
     "text": [
      "Enter your score  = 78\n",
      "Your Grade : B\n"
     ]
    }
   ],
   "source": [
    "''' A school has the following rules for the grading system:\n",
    "Below 25 – F, 25 to 44 – E, 45 to 49 – D, 50 to 59 – C, 60 to 79 – B, 80 to 89 - A, Above 90 - A+\n",
    "Now, Ask the user to enter marks and print the corresponding grade.'''\n",
    "\n",
    "\n",
    "scores = int(input(\"Enter your score  = \"));\n",
    "\n",
    "if scores >= 90 and scores<= 100:\n",
    "        print(\"Your Grade : A+\")\n",
    "elif scores >= 80 and scores<= 89:\n",
    "        print(\"Your Grade : A\")\n",
    "elif scores >= 60 and scores<= 79:\n",
    "        print(\"Your Grade : B\")\n",
    "elif scores >= 50 and scores<= 59:\n",
    "        print(\"Your Grade : C\")\n",
    "elif scores >= 45 and scores<= 49:\n",
    "        print(\"Your Grade : D\")\n",
    "elif scores >= 25 and scores<= 44:\n",
    "        print(\"Your Grade : E\")\n",
    "else:\n",
    "        print(\"Your Grade : F\")"
   ]
  },
  {
   "cell_type": "code",
   "execution_count": 8,
   "id": "5b825267",
   "metadata": {},
   "outputs": [
    {
     "name": "stdout",
     "output_type": "stream",
     "text": [
      "1234567\n",
      "123456\n",
      "12345\n",
      "1234"
     ]
    }
   ],
   "source": [
    "# 5.Print the following pattern using for loop\n",
    "size = 7\n",
    "count = 0\n",
    "for i in range(size):\n",
    "    for j in range(size-i):\n",
    "        print(j+1, end=\"\")\n",
    "    count+=1\n",
    "    if count==4:\n",
    "        break\n",
    "    print()\n"
   ]
  },
  {
   "cell_type": "code",
   "execution_count": 9,
   "id": "29a746a0",
   "metadata": {},
   "outputs": [
    {
     "name": "stdout",
     "output_type": "stream",
     "text": [
      "Numbers from -100 to -10:\n",
      "-100 -99 -98 -97 -96 -95 -94 -93 -92 -91 -90 -89 -88 -87 -86 -85 -84 -83 -82 -81 -80 -79 -78 -77 -76 -75 -74 -73 -72 -71 -70 -69 -68 -67 -66 -65 -64 -63 -62 -61 -60 -59 -58 -57 -56 -55 -54 -53 -52 -51 -50 -49 -48 -47 -46 -45 -44 -43 -42 -41 -40 -39 -38 -37 -36 -35 -34 -33 -32 -31 -30 -29 -28 -27 -26 -25 -24 -23 -22 -21 -20 -19 -18 -17 -16 -15 -14 -13 -12 -11 -10 "
     ]
    }
   ],
   "source": [
    "''' Display numbers from -100 to -10 using for loop'''\n",
    "print('Numbers from -100 to -10:')\n",
    "for n in range(-100, -9):\n",
    "    print(n, end=' ')"
   ]
  },
  {
   "cell_type": "code",
   "execution_count": 10,
   "id": "503b298c",
   "metadata": {},
   "outputs": [
    {
     "name": "stdout",
     "output_type": "stream",
     "text": [
      "Prime numbers are : \n",
      "11 13 17 19 23 29 31 37 41 43 47 53 59 61 67 71 73 79 83 89 97 101 103 107 109 113 127 131 137 139 149 151 157 163 167 173 179 181 191 193 197 199 211 223 227 229 233 239 241 251 257 263 269 271 277 281 283 293 307 311 313 317 331 337 347 349 353 359 367 373 379 383 389 397 401 409 419 421 431 433 439 443 449 457 461 463 467 479 487 491 499 503 509 521 523 541 547 557 563 569 571 577 587 593 599 601 607 613 617 619 631 641 643 647 653 659 661 673 677 683 691 701 709 719 727 733 739 743 751 757 761 769 773 787 797 809 811 821 823 827 829 839 853 857 859 863 877 881 883 887 907 911 919 929 937 941 947 953 967 971 977 983 991 997 "
     ]
    }
   ],
   "source": [
    "'''Write a program to sum all prime numbers within a range of 10 to 1000'''\n",
    "print(\"Prime numbers are : \")\n",
    "for num in range(10,1001):\n",
    "       for i in range(2, num):\n",
    "           if (num % i) == 0:\n",
    "               break\n",
    "       else:\n",
    "           print(num,end=\" \")"
   ]
  },
  {
   "cell_type": "code",
   "execution_count": 12,
   "id": "586d4320",
   "metadata": {},
   "outputs": [
    {
     "name": "stdout",
     "output_type": "stream",
     "text": [
      "Enter your number= 7\n",
      "The factorial of 7 is 5040\n"
     ]
    }
   ],
   "source": [
    "'''Find the factorial of an n!'''\n",
    "n = int(input(\"Enter your number= \"))\n",
    "fact =1\n",
    "for i in range(1,n+1):\n",
    "    fact*=i;\n",
    "print(\"The factorial of\",n,\"is\",fact)"
   ]
  },
  {
   "cell_type": "code",
   "execution_count": 13,
   "id": "46295756",
   "metadata": {},
   "outputs": [
    {
     "name": "stdout",
     "output_type": "stream",
     "text": [
      "Reverse Number= 1704265972\n"
     ]
    }
   ],
   "source": [
    "# Reverse a given integer number 27956240710.\n",
    "\n",
    "n = 27956240710\n",
    "rev = 0\n",
    "while(n>0):\n",
    "    digit=n%10;\n",
    "    rev= rev*10+digit;\n",
    "    n=n//10\n",
    "print(\"Reverse Number=\",rev)"
   ]
  },
  {
   "cell_type": "code",
   "execution_count": 1,
   "id": "fb2a3d09",
   "metadata": {},
   "outputs": [
    {
     "name": "stdout",
     "output_type": "stream",
     "text": [
      "#\n",
      "# # #\n",
      "# #\n",
      "# # #\n",
      "#\n",
      "# # # #\n"
     ]
    }
   ],
   "source": [
    "#Print the following pattern using for loop.\n",
    "for i in range(1, 5):\n",
    "    for j in range(1, i+1):\n",
    "        if j < i:\n",
    "            print(\"#\", end=\" \")\n",
    "        else:\n",
    "            print(\"#\")\n",
    "    if i == 2:\n",
    "        continue\n",
    "    for j in range(i+1, 5):\n",
    "        if j < 4:\n",
    "            print(\"#\", end=\" \")\n",
    "        else:\n",
    "            print(\"#\")"
   ]
  },
  {
   "cell_type": "code",
   "execution_count": 17,
   "id": "1350bdce",
   "metadata": {},
   "outputs": [
    {
     "name": "stdout",
     "output_type": "stream",
     "text": [
      "The Fibonacci series of 15 elements :\n",
      "0 1 1 2 3 5 8 13 21 34 55 89 144 233 377 "
     ]
    }
   ],
   "source": [
    "#Display the Fibonacci series of 15 elements using the for loop\n",
    "a, b = 0, 1\n",
    "print(\"The Fibonacci series of 15 elements :\")\n",
    "for i in range(15):\n",
    "    print(a, end=\" \")\n",
    "    c = a + b\n",
    "    a = b\n",
    "    b = c\n"
   ]
  },
  {
   "cell_type": "code",
   "execution_count": 5,
   "id": "49e4482f",
   "metadata": {},
   "outputs": [
    {
     "name": "stdout",
     "output_type": "stream",
     "text": [
      "[1, 3, 5, [3, 3], False]\n"
     ]
    }
   ],
   "source": [
    "#Remove 2 and add 3 to the list and replace True with False.\n",
    "li = [1,3,5, [2,3], True]\n",
    "li[3][0]=3\n",
    "li [4]=False\n",
    "print(li)"
   ]
  },
  {
   "cell_type": "code",
   "execution_count": 7,
   "id": "826bcef6",
   "metadata": {},
   "outputs": [
    {
     "name": "stdout",
     "output_type": "stream",
     "text": [
      "{True}\n"
     ]
    }
   ],
   "source": [
    "#Find the intersection (common) of two sets\n",
    "s1 = {1,4,6,8}\n",
    "s2 = {True,1,2,10}\n",
    "s3= s1.intersection(s2)\n",
    "print(s3)"
   ]
  },
  {
   "cell_type": "code",
   "execution_count": 8,
   "id": "31a78bcb",
   "metadata": {},
   "outputs": [
    {
     "name": "stdout",
     "output_type": "stream",
     "text": [
      "Set after removing duplicate elements:  {1, 3, 4, 5, 200, 9}\n",
      "max element:  200\n"
     ]
    }
   ],
   "source": [
    "#Input a list from the user then Remove duplicates from a list and create a set and find the max\n",
    "User_input = [1,9,3,4,5,200,5,4]\n",
    "result = {x for x in User_input}\n",
    "print(\"Set after removing duplicate elements: \", result)\n",
    "print(\"max element: \",max(result))"
   ]
  },
  {
   "cell_type": "code",
   "execution_count": 10,
   "id": "2f2fb7a3",
   "metadata": {},
   "outputs": [
    {
     "name": "stdout",
     "output_type": "stream",
     "text": [
      "Before rename  {'name': 'Shakil', 'age': 27, 'city': 'Berlin', 'country': 'Germany'}\n",
      "After rename {'name': 'Shakil', 'age': 27, 'city': 'Berlin', 'region': 'Germany'}\n"
     ]
    }
   ],
   "source": [
    "#Write a program to rename a key ‘country’ to a ‘region’ in the following dictionary.\n",
    "Dict = { \"name\": \"Shakil\", \"age\":27, \"city\": \"Berlin\", \"country\": \"Germany\" }\n",
    "print(\"Before rename \",Dict)\n",
    "Dict[\"region\"]=Dict.pop(\"country\")\n",
    "print(\"After rename\",Dict)"
   ]
  },
  {
   "cell_type": "code",
   "execution_count": 11,
   "id": "e34166d7",
   "metadata": {},
   "outputs": [],
   "source": [
    "import pandas as pd"
   ]
  },
  {
   "cell_type": "code",
   "execution_count": 14,
   "id": "36e26589",
   "metadata": {},
   "outputs": [
    {
     "data": {
      "text/html": [
       "<div>\n",
       "<style scoped>\n",
       "    .dataframe tbody tr th:only-of-type {\n",
       "        vertical-align: middle;\n",
       "    }\n",
       "\n",
       "    .dataframe tbody tr th {\n",
       "        vertical-align: top;\n",
       "    }\n",
       "\n",
       "    .dataframe thead th {\n",
       "        text-align: right;\n",
       "    }\n",
       "</style>\n",
       "<table border=\"1\" class=\"dataframe\">\n",
       "  <thead>\n",
       "    <tr style=\"text-align: right;\">\n",
       "      <th></th>\n",
       "      <th>Number</th>\n",
       "    </tr>\n",
       "  </thead>\n",
       "  <tbody>\n",
       "    <tr>\n",
       "      <th>0</th>\n",
       "      <td>10</td>\n",
       "    </tr>\n",
       "    <tr>\n",
       "      <th>1</th>\n",
       "      <td>100</td>\n",
       "    </tr>\n",
       "    <tr>\n",
       "      <th>2</th>\n",
       "      <td>300</td>\n",
       "    </tr>\n",
       "  </tbody>\n",
       "</table>\n",
       "</div>"
      ],
      "text/plain": [
       "   Number\n",
       "0      10\n",
       "1     100\n",
       "2     300"
      ]
     },
     "execution_count": 14,
     "metadata": {},
     "output_type": "execute_result"
    }
   ],
   "source": [
    "#Creating a data frame using the list.\n",
    "num = [10,100,300]\n",
    "df = pd.DataFrame(num,columns =['Number'])\n",
    "df"
   ]
  },
  {
   "cell_type": "code",
   "execution_count": 16,
   "id": "dca06f12",
   "metadata": {},
   "outputs": [
    {
     "name": "stdout",
     "output_type": "stream",
     "text": [
      "Before Change  {'name': 'Shakil', 'age': 27, 'city': 'Berlin', 'country': 'Germany'}\n",
      "After Change {'name': 'Shakil', 'age': 28, 'city': 'Berlin', 'country': 'Germany'}\n"
     ]
    }
   ],
   "source": [
    "#Write a Python program to change ‘age’ to 28 in the following dictionary\n",
    "Dict = { \"name\": \"Shakil\", \"age\":27, \"city\": \"Berlin\", \"country\": \"Germany\" }\n",
    "print(\"Before Change \",Dict)\n",
    "Dict['age']=28\n",
    "print(\"After Change\",Dict)"
   ]
  },
  {
   "cell_type": "code",
   "execution_count": null,
   "id": "e2b051a2",
   "metadata": {},
   "outputs": [],
   "source": []
  }
 ],
 "metadata": {
  "kernelspec": {
   "display_name": "Python 3 (ipykernel)",
   "language": "python",
   "name": "python3"
  },
  "language_info": {
   "codemirror_mode": {
    "name": "ipython",
    "version": 3
   },
   "file_extension": ".py",
   "mimetype": "text/x-python",
   "name": "python",
   "nbconvert_exporter": "python",
   "pygments_lexer": "ipython3",
   "version": "3.9.13"
  }
 },
 "nbformat": 4,
 "nbformat_minor": 5
}
